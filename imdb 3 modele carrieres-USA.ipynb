{
 "cells": [
  {
   "cell_type": "code",
   "execution_count": 1,
   "metadata": {},
   "outputs": [],
   "source": [
    "import numpy as np\n",
    "import pandas as pd\n",
    "import matplotlib.pyplot as plt\n",
    "import seaborn as sns"
   ]
  },
  {
   "cell_type": "code",
   "execution_count": 2,
   "metadata": {},
   "outputs": [
    {
     "name": "stdout",
     "output_type": "stream",
     "text": [
      "<class 'pandas.core.frame.DataFrame'>\n",
      "RangeIndex: 8637 entries, 0 to 8636\n",
      "Data columns (total 13 columns):\n",
      "nconst           8637 non-null object\n",
      "ordering         8637 non-null float64\n",
      "startYear        8637 non-null float64\n",
      "birthYear        8637 non-null int64\n",
      "averageRating    8412 non-null float64\n",
      "numVotes         8412 non-null float64\n",
      "Num5Y            8637 non-null int64\n",
      "retournera       8637 non-null bool\n",
      "tconst           8637 non-null int64\n",
      "SCate            8637 non-null object\n",
      "SGenr            8637 non-null object\n",
      "SReg             8637 non-null object\n",
      "SProf            8637 non-null object\n",
      "dtypes: bool(1), float64(4), int64(3), object(5)\n",
      "memory usage: 818.2+ KB\n"
     ]
    }
   ],
   "source": [
    "dbr=pd.read_excel(\"cohorte.xlsx\")\n",
    "dbr.info()"
   ]
  },
  {
   "cell_type": "code",
   "execution_count": 3,
   "metadata": {},
   "outputs": [],
   "source": [
    "#les Nan correspondent à des films sans rating. Remplisisons à tout hasard par des zéros (on essaiera aussi en les enlevant)\n",
    "dbr=dbr.fillna(0)"
   ]
  },
  {
   "cell_type": "code",
   "execution_count": 4,
   "metadata": {},
   "outputs": [
    {
     "data": {
      "text/plain": [
       "US    1386\n",
       "DE     528\n",
       "IN     484\n",
       "BR     456\n",
       "JP     444\n",
       "CA     367\n",
       "AR     329\n",
       "FR     309\n",
       "RU     307\n",
       "BG     238\n",
       "Name: SReg, dtype: int64"
      ]
     },
     "execution_count": 4,
     "metadata": {},
     "output_type": "execute_result"
    }
   ],
   "source": [
    "dbr.SReg.value_counts()[0:10]"
   ]
  },
  {
   "cell_type": "markdown",
   "metadata": {},
   "source": [
    "# on se restreint aux USA"
   ]
  },
  {
   "cell_type": "code",
   "execution_count": 5,
   "metadata": {},
   "outputs": [],
   "source": [
    "dbr=dbr[dbr.SReg=='US']"
   ]
  },
  {
   "cell_type": "code",
   "execution_count": 6,
   "metadata": {},
   "outputs": [],
   "source": [
    "#séparons la variable à expliquer des variables explicatives\n",
    "y=dbr['retournera']\n",
    "X=dbr.drop('retournera',axis=1)"
   ]
  },
  {
   "cell_type": "code",
   "execution_count": 7,
   "metadata": {},
   "outputs": [
    {
     "data": {
      "text/plain": [
       "array(['actor', 'actress'], dtype=object)"
      ]
     },
     "execution_count": 7,
     "metadata": {},
     "output_type": "execute_result"
    }
   ],
   "source": [
    "X['SCate'].unique()"
   ]
  },
  {
   "cell_type": "code",
   "execution_count": 8,
   "metadata": {},
   "outputs": [],
   "source": [
    "#supprimons le nom, ici sans apport d'information\n",
    "X=X.drop('nconst',axis=1)"
   ]
  },
  {
   "cell_type": "code",
   "execution_count": 9,
   "metadata": {},
   "outputs": [],
   "source": [
    "#numérisons le genre\n",
    "X=X.join(pd.get_dummies(X['SCate']))\n",
    "X=X.drop('actor',axis=1)"
   ]
  },
  {
   "cell_type": "code",
   "execution_count": 10,
   "metadata": {},
   "outputs": [],
   "source": [
    "#pour l'instant droppons les autres variables objets trop difficile à séparer\n",
    "X=X.drop('SReg',axis=1)\n",
    "X=X.drop('SProf',axis=1)\n",
    "X=X.drop('SGenr',axis=1)\n",
    "X=X.drop('SCate',axis=1)"
   ]
  },
  {
   "cell_type": "code",
   "execution_count": 11,
   "metadata": {},
   "outputs": [
    {
     "name": "stdout",
     "output_type": "stream",
     "text": [
      "<class 'pandas.core.frame.DataFrame'>\n",
      "Int64Index: 1386 entries, 28 to 8628\n",
      "Data columns (total 8 columns):\n",
      "ordering         1386 non-null float64\n",
      "startYear        1386 non-null float64\n",
      "birthYear        1386 non-null int64\n",
      "averageRating    1386 non-null float64\n",
      "numVotes         1386 non-null float64\n",
      "Num5Y            1386 non-null int64\n",
      "tconst           1386 non-null int64\n",
      "actress          1386 non-null uint8\n",
      "dtypes: float64(4), int64(3), uint8(1)\n",
      "memory usage: 128.0 KB\n"
     ]
    }
   ],
   "source": [
    "X.info()"
   ]
  },
  {
   "cell_type": "code",
   "execution_count": 12,
   "metadata": {},
   "outputs": [
    {
     "data": {
      "text/plain": [
       "count    1386.000000\n",
       "mean        0.339827\n",
       "std         0.473821\n",
       "min         0.000000\n",
       "25%         0.000000\n",
       "50%         0.000000\n",
       "75%         1.000000\n",
       "max         1.000000\n",
       "Name: actress, dtype: float64"
      ]
     },
     "execution_count": 12,
     "metadata": {},
     "output_type": "execute_result"
    }
   ],
   "source": [
    "X.actress.describe()"
   ]
  },
  {
   "cell_type": "code",
   "execution_count": 13,
   "metadata": {},
   "outputs": [],
   "source": [
    "#séparons en training et test (pas indispensable puisqu'on veut juste décrire l'observé,mais c'est mieux\n",
    "# si le sujet intéresse on ajoutera un test out of time)\n",
    "from sklearn.model_selection import train_test_split\n",
    "X_train, X_test, y_train, y_test = train_test_split(X, y, random_state=42)"
   ]
  },
  {
   "cell_type": "code",
   "execution_count": 14,
   "metadata": {},
   "outputs": [],
   "source": [
    "from sklearn.model_selection import cross_val_score\n",
    "from sklearn.model_selection import GridSearchCV\n",
    "from sklearn.metrics import roc_auc_score"
   ]
  },
  {
   "cell_type": "code",
   "execution_count": 15,
   "metadata": {},
   "outputs": [
    {
     "name": "stdout",
     "output_type": "stream",
     "text": [
      "Best parameters: {'max_depth': 3}\n",
      "Best cross-validation score: 0.886\n",
      "Test set score: 0.871\n"
     ]
    }
   ],
   "source": [
    "from sklearn.tree import DecisionTreeClassifier\n",
    "param_grid = {'max_depth': range(1,10)}\n",
    "grid_search = GridSearchCV(DecisionTreeClassifier(), param_grid, scoring= 'roc_auc', cv=5,return_train_score=True)\n",
    "grid_search.fit(X_train, y_train)\n",
    "print(\"Best parameters: {}\".format(grid_search.best_params_))\n",
    "print(\"Best cross-validation score: {:.3f}\".format(grid_search.best_score_))\n",
    "print(\"Test set score: {:.3f}\".format(grid_search.score(X_test, y_test)))"
   ]
  },
  {
   "cell_type": "code",
   "execution_count": 16,
   "metadata": {},
   "outputs": [
    {
     "name": "stdout",
     "output_type": "stream",
     "text": [
      "pour une profondeur de 3\n",
      "la précision sur l'échantillon d'apprentissage est de 0.840\n",
      "et la précision sur le vrai échantillon de test est de 0.787\n",
      "et le roc_auc_score en test est de 0.781\n"
     ]
    }
   ],
   "source": [
    "### en fittant avec ces paramètres sur tout l'échantillon d'apprentissage : \n",
    "k=3\n",
    "tree = DecisionTreeClassifier(max_depth=k)\n",
    "tree.fit(X_train,y_train)\n",
    "R2_appr=tree.score(X_train,y_train)\n",
    "R2_test=tree.score(X_test,y_test)\n",
    "y_pred=tree.predict(X_test)\n",
    "roc_test=roc_auc_score(y_test, y_pred)\n",
    "print('pour une profondeur de',k)\n",
    "print(\"la précision sur l'échantillon d'apprentissage est de {:.3f}\".format(R2_appr))\n",
    "print(\"et la précision sur le vrai échantillon de test est de {:.3f}\".format(R2_test))\n",
    "print(\"et le roc_auc_score en test est de {:.3f}\".format(roc_test))"
   ]
  },
  {
   "cell_type": "code",
   "execution_count": 17,
   "metadata": {},
   "outputs": [
    {
     "data": {
      "text/plain": [
       "<matplotlib.figure.Figure at 0x2268ef1eeb8>"
      ]
     },
     "metadata": {},
     "output_type": "display_data"
    },
    {
     "data": {
      "image/png": "[encoded data removed]",
      "text/plain": [
       "<matplotlib.figure.Figure at 0x2268ef1e828>"
      ]
     },
     "metadata": {},
     "output_type": "display_data"
    }
   ],
   "source": [
    "#examinons l'importance respective des variables explicatives\n",
    "\n",
    "# adapted from Muller & Guido \n",
    "# https://github.com/amueller/introduction_to_ml_with_python/blob/master/02-supervised-learning.ipynb\n",
    "\n",
    "def plot_feature_importances(model, Frame):\n",
    "    plt.clf()\n",
    "    n_features=len(Frame.columns)\n",
    "    plt.figure(figsize=(15,15))\n",
    "    plt.barh(range(n_features), model.feature_importances_, align='center')\n",
    "    plt.yticks(np.arange(n_features), Frame.columns)\n",
    "    plt.xlabel(\"Feature importance\")\n",
    "    plt.ylabel(\"Feature\")\n",
    "    plt.ylim(-1, n_features)\n",
    "\n",
    "\n",
    "plot_feature_importances(tree,X_train)\n",
    "plt.show()  "
   ]
  },
  {
   "cell_type": "code",
   "execution_count": 18,
   "metadata": {},
   "outputs": [],
   "source": [
    "#essayons sans tconst, variable suspecte (ai-je bien enlevé les films suivants ?)\n",
    "X1_train=X_train.drop('tconst',axis=1)\n",
    "X1_test=X_test.drop('tconst',axis=1)"
   ]
  },
  {
   "cell_type": "code",
   "execution_count": 19,
   "metadata": {},
   "outputs": [
    {
     "name": "stdout",
     "output_type": "stream",
     "text": [
      "Best parameters: {'max_depth': 4}\n",
      "Best cross-validation score: 0.680\n",
      "Test set score: 0.677\n"
     ]
    }
   ],
   "source": [
    "param_grid = {'max_depth': range(1,10)}\n",
    "grid_search = GridSearchCV(DecisionTreeClassifier(), param_grid, scoring= 'roc_auc', cv=5,return_train_score=True)\n",
    "grid_search.fit(X1_train, y_train)\n",
    "print(\"Best parameters: {}\".format(grid_search.best_params_))\n",
    "print(\"Best cross-validation score: {:.3f}\".format(grid_search.best_score_))\n",
    "print(\"Test set score: {:.3f}\".format(grid_search.score(X1_test, y_test)))"
   ]
  },
  {
   "cell_type": "code",
   "execution_count": 20,
   "metadata": {},
   "outputs": [
    {
     "name": "stdout",
     "output_type": "stream",
     "text": [
      "pour une profondeur de 4\n",
      "la précision sur l'échantillon d'apprentissage est de 0.692\n",
      "et la précision sur le vrai échantillon de test est de 0.643\n",
      "et le roc_auc_score en test est de 0.656\n"
     ]
    }
   ],
   "source": [
    "### en fittant avec ces paramètres sur tout l'échantillon d'apprentissage : \n",
    "k=4\n",
    "tree1 = DecisionTreeClassifier(max_depth=k)\n",
    "tree1.fit(X1_train,y_train)\n",
    "R2_appr=tree1.score(X1_train,y_train)\n",
    "R2_test=tree1.score(X1_test,y_test)\n",
    "y_pred=tree1.predict(X1_test)\n",
    "roc_test=roc_auc_score(y_test, y_pred)\n",
    "print('pour une profondeur de',k)\n",
    "print(\"la précision sur l'échantillon d'apprentissage est de {:.3f}\".format(R2_appr))\n",
    "print(\"et la précision sur le vrai échantillon de test est de {:.3f}\".format(R2_test))\n",
    "print(\"et le roc_auc_score en test est de {:.3f}\".format(roc_test))"
   ]
  },
  {
   "cell_type": "code",
   "execution_count": 21,
   "metadata": {},
   "outputs": [
    {
     "data": {
      "text/plain": [
       "<matplotlib.figure.Figure at 0x2268ede8f98>"
      ]
     },
     "metadata": {},
     "output_type": "display_data"
    },
    {
     "data": {
      "image/png": "[encoded data removed]",
      "text/plain": [
       "<matplotlib.figure.Figure at 0x2268f097e10>"
      ]
     },
     "metadata": {},
     "output_type": "display_data"
    }
   ],
   "source": [
    "#examinons l'importance respective des variables explicatives\n",
    "plot_feature_importances(tree1,X1_train)\n",
    "plt.show()  "
   ]
  },
  {
   "cell_type": "code",
   "execution_count": null,
   "metadata": {},
   "outputs": [],
   "source": []
  },
  {
   "cell_type": "code",
   "execution_count": null,
   "metadata": {},
   "outputs": [],
   "source": []
  },
  {
   "cell_type": "code",
   "execution_count": null,
   "metadata": {},
   "outputs": [],
   "source": []
  }
 ],
 "metadata": {
  "kernelspec": {
   "display_name": "Python 3",
   "language": "python",
   "name": "python3"
  },
  "language_info": {
   "codemirror_mode": {
    "name": "ipython",
    "version": 3
   },
   "file_extension": ".py",
   "mimetype": "text/x-python",
   "name": "python",
   "nbconvert_exporter": "python",
   "pygments_lexer": "ipython3",
   "version": "3.6.4"
  }
 },
 "nbformat": 4,
 "nbformat_minor": 2
}
