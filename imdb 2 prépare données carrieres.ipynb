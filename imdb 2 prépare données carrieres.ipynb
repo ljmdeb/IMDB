{
 "cells": [
  {
   "cell_type": "code",
   "execution_count": 4,
   "metadata": {},
   "outputs": [],
   "source": [
    "import numpy as np\n",
    "import pandas as pd\n",
    "import matplotlib.pyplot as plt\n",
    "import seaborn as sns"
   ]
  },
  {
   "cell_type": "code",
   "execution_count": 5,
   "metadata": {},
   "outputs": [],
   "source": [
    "geo=None\n",
    "#geo='FR'"
   ]
  },
  {
   "cell_type": "code",
   "execution_count": 6,
   "metadata": {},
   "outputs": [],
   "source": [
    "dbr=pd.read_csv(\"imdb_dbr.csv\")\n",
    "#if geo!=None:\n",
    "#    dbr=dbr[dbr.region==geo]\n",
    "dbr=dbr.drop('Unnamed: 0',axis=1)\n",
    "dbr=dbr.drop('Unnamed: 0.1',axis=1)\n",
    "dbr=dbr.drop('Unnamed: 0.1.1',axis=1)\n",
    "dbr=dbr.drop('Unnamed: 0.1.1.1',axis=1)\n",
    "dbr=dbr.drop('Unnamed: 0.1.1.1.1',axis=1)\n",
    "\n",
    "\n",
    "# On se place fin 2012 et sélectionne les acteurs qui ont joué dans au moins 2 films depuis 2008.\n",
    "start=2008\n",
    "dbr1=dbr[dbr.startYear>=start]\n",
    "#on enlève les personnes agées pour éviter l'effet de la mortalité\n",
    "dbr1=dbr1[dbr1.birthYear>start-70]\n",
    "# on veut compter seulement sur les 5 années de 2008 à 2012\n",
    "dbr2=dbr1[dbr1.startYear<start+5]\n",
    "# on voudra aussi vérifier si les acteurs ont tourné après 2012\n",
    "dbr3=dbr1[dbr1.startYear>=start+5]\n",
    "dbr3=dbr3[dbr3.startYear<start+10]"
   ]
  },
  {
   "cell_type": "code",
   "execution_count": 7,
   "metadata": {},
   "outputs": [
    {
     "name": "stdout",
     "output_type": "stream",
     "text": [
      "8637\n"
     ]
    }
   ],
   "source": [
    "# formons une cohorte avec celles et ceux qui ont tourné au moins deux films dans les 5 années de 2013 à 2017 inclus\n",
    "list_prov=dbr2.groupby('nconst').count()[['tconst']]\n",
    "list_prov=list_prov[list_prov.tconst>=2]\n",
    "cohorte=list_prov.index.tolist()\n",
    "print(len(cohorte))"
   ]
  },
  {
   "cell_type": "code",
   "execution_count": 8,
   "metadata": {},
   "outputs": [],
   "source": [
    "#éliminons de nos bases de données les rôles qui ne concernent pas les personnes de notre cohorte\n",
    "dbr=dbr[dbr.nconst.isin(cohorte)]\n",
    "dbr2=dbr2[dbr2.nconst.isin(cohorte)]\n",
    "dbr3=dbr3[dbr3.nconst.isin(cohorte)]"
   ]
  },
  {
   "cell_type": "code",
   "execution_count": 9,
   "metadata": {},
   "outputs": [],
   "source": [
    "# pour chaque nom de la cohorte, déterminons s'il/elle a ou non tourné ensuite\n",
    "# pour cela constituons la liste (déjà réduite) des noms présents dans les rôles post 2012\n",
    "list_2013=dbr3.nconst.unique().tolist()\n",
    "list_prov['retournera']=list_prov.index.isin(list_2013)"
   ]
  },
  {
   "cell_type": "code",
   "execution_count": 10,
   "metadata": {},
   "outputs": [
    {
     "name": "stdout",
     "output_type": "stream",
     "text": [
      "            tconst\n",
      "retournera        \n",
      "False         2616\n",
      "True          6021\n"
     ]
    }
   ],
   "source": [
    "print(list_prov.groupby('retournera').count())"
   ]
  },
  {
   "cell_type": "markdown",
   "metadata": {},
   "source": [
    "40% des acteurs ne retourneront pas de film notable dans les 3 années suivantes et 30% dans les 5 années suivantes."
   ]
  },
  {
   "cell_type": "code",
   "execution_count": 11,
   "metadata": {},
   "outputs": [
    {
     "name": "stdout",
     "output_type": "stream",
     "text": [
      "<class 'pandas.core.frame.DataFrame'>\n",
      "Index: 8637 entries, nm0000092 to nm9038038\n",
      "Data columns (total 5 columns):\n",
      "ordering         8637 non-null float64\n",
      "startYear        8637 non-null float64\n",
      "birthYear        8637 non-null float64\n",
      "averageRating    8412 non-null float64\n",
      "numVotes         8412 non-null float64\n",
      "dtypes: float64(5)\n",
      "memory usage: 404.9+ KB\n"
     ]
    }
   ],
   "source": [
    "#ajoutons de nouvelles variables explicatives possibles\n",
    "new_dat=dbr2.groupby('nconst').agg('mean')\n",
    "new_dat=new_dat.drop('age',axis=1)\n",
    "new_dat.info()"
   ]
  },
  {
   "cell_type": "code",
   "execution_count": 12,
   "metadata": {},
   "outputs": [],
   "source": [
    "# fusionnons avec le dataframe contenant les nombres de films récents\n",
    "new_dat=pd.concat([new_dat, list_prov], axis=1)"
   ]
  },
  {
   "cell_type": "code",
   "execution_count": 13,
   "metadata": {},
   "outputs": [],
   "source": [
    "# tconst ici indique le nombre de films tournés durant les 5 dernières années. Changeons pour un nom plus explicite\n",
    "new_dat.rename(columns={'tconst':'Num5Y'}, inplace=True)"
   ]
  },
  {
   "cell_type": "markdown",
   "metadata": {},
   "source": [
    "nous avons ici un certain nombre de stats sur les derniers films (nombre, moyenne des rang des roles, des années, des ratings qui peuvent servir de variables explicatives"
   ]
  },
  {
   "cell_type": "code",
   "execution_count": 14,
   "metadata": {},
   "outputs": [],
   "source": [
    "# ajoutons y le nombre total de films de la carrière jusqu'ici\n",
    "tot_films=dbr.groupby('nconst').agg('count')['tconst']\n",
    "new_dat=pd.concat([new_dat, tot_films], axis=1)"
   ]
  },
  {
   "cell_type": "code",
   "execution_count": 15,
   "metadata": {},
   "outputs": [
    {
     "data": {
      "text/html": [
       "<div>\n",
       "<style scoped>\n",
       "    .dataframe tbody tr th:only-of-type {\n",
       "        vertical-align: middle;\n",
       "    }\n",
       "\n",
       "    .dataframe tbody tr th {\n",
       "        vertical-align: top;\n",
       "    }\n",
       "\n",
       "    .dataframe thead th {\n",
       "        text-align: right;\n",
       "    }\n",
       "</style>\n",
       "<table border=\"1\" class=\"dataframe\">\n",
       "  <thead>\n",
       "    <tr style=\"text-align: right;\">\n",
       "      <th></th>\n",
       "      <th>ordering</th>\n",
       "      <th>startYear</th>\n",
       "      <th>birthYear</th>\n",
       "      <th>averageRating</th>\n",
       "      <th>numVotes</th>\n",
       "      <th>Num5Y</th>\n",
       "      <th>retournera</th>\n",
       "      <th>tconst</th>\n",
       "    </tr>\n",
       "    <tr>\n",
       "      <th>nconst</th>\n",
       "      <th></th>\n",
       "      <th></th>\n",
       "      <th></th>\n",
       "      <th></th>\n",
       "      <th></th>\n",
       "      <th></th>\n",
       "      <th></th>\n",
       "      <th></th>\n",
       "    </tr>\n",
       "  </thead>\n",
       "  <tbody>\n",
       "    <tr>\n",
       "      <th>nm0000092</th>\n",
       "      <td>2.500000</td>\n",
       "      <td>2010.500000</td>\n",
       "      <td>1939.0</td>\n",
       "      <td>6.450000</td>\n",
       "      <td>20897.500000</td>\n",
       "      <td>2</td>\n",
       "      <td>False</td>\n",
       "      <td>15</td>\n",
       "    </tr>\n",
       "    <tr>\n",
       "      <th>nm0000093</th>\n",
       "      <td>1.000000</td>\n",
       "      <td>2009.833333</td>\n",
       "      <td>1963.0</td>\n",
       "      <td>7.283333</td>\n",
       "      <td>422899.666667</td>\n",
       "      <td>6</td>\n",
       "      <td>True</td>\n",
       "      <td>32</td>\n",
       "    </tr>\n",
       "    <tr>\n",
       "      <th>nm0000096</th>\n",
       "      <td>3.500000</td>\n",
       "      <td>2012.000000</td>\n",
       "      <td>1968.0</td>\n",
       "      <td>6.650000</td>\n",
       "      <td>8615.000000</td>\n",
       "      <td>2</td>\n",
       "      <td>True</td>\n",
       "      <td>13</td>\n",
       "    </tr>\n",
       "    <tr>\n",
       "      <th>nm0000098</th>\n",
       "      <td>1.428571</td>\n",
       "      <td>2009.571429</td>\n",
       "      <td>1969.0</td>\n",
       "      <td>6.171429</td>\n",
       "      <td>98413.142857</td>\n",
       "      <td>7</td>\n",
       "      <td>True</td>\n",
       "      <td>27</td>\n",
       "    </tr>\n",
       "    <tr>\n",
       "      <th>nm0000099</th>\n",
       "      <td>2.000000</td>\n",
       "      <td>2010.000000</td>\n",
       "      <td>1968.0</td>\n",
       "      <td>5.850000</td>\n",
       "      <td>3118.500000</td>\n",
       "      <td>2</td>\n",
       "      <td>True</td>\n",
       "      <td>21</td>\n",
       "    </tr>\n",
       "  </tbody>\n",
       "</table>\n",
       "</div>"
      ],
      "text/plain": [
       "           ordering    startYear  birthYear  averageRating       numVotes  \\\n",
       "nconst                                                                      \n",
       "nm0000092  2.500000  2010.500000     1939.0       6.450000   20897.500000   \n",
       "nm0000093  1.000000  2009.833333     1963.0       7.283333  422899.666667   \n",
       "nm0000096  3.500000  2012.000000     1968.0       6.650000    8615.000000   \n",
       "nm0000098  1.428571  2009.571429     1969.0       6.171429   98413.142857   \n",
       "nm0000099  2.000000  2010.000000     1968.0       5.850000    3118.500000   \n",
       "\n",
       "           Num5Y  retournera  tconst  \n",
       "nconst                                \n",
       "nm0000092      2       False      15  \n",
       "nm0000093      6        True      32  \n",
       "nm0000096      2        True      13  \n",
       "nm0000098      7        True      27  \n",
       "nm0000099      2        True      21  "
      ]
     },
     "execution_count": 15,
     "metadata": {},
     "output_type": "execute_result"
    }
   ],
   "source": [
    "new_dat.head(5)"
   ]
  },
  {
   "cell_type": "code",
   "execution_count": 16,
   "metadata": {},
   "outputs": [],
   "source": [
    "# reste à ajouter des variables textuelles correspondant aux regions, professions etc.. les plus fréquentes pour un acteur/trice\n",
    "# malheureusement comme je n'ai pas réussi à faire d'aggrégation avec 'mode' je suis obligé de briser l'interdit \n",
    "# et parcourir un dataframe (il doit falloir utiliser \"apply\", je regarderais plus tard comment faire\n",
    "Cate={}\n",
    "Genr={}\n",
    "Reg={}\n",
    "prProf={}\n",
    "for nom in cohorte:\n",
    "    buff=dbr2[dbr2.nconst==nom]\n",
    "    Cate[nom]=buff.category.mode()[0]\n",
    "    Genr[nom]=buff.genres.mode()[0]\n",
    "    Reg[nom]=buff.region.mode()[0]\n",
    "    prProf[nom]=buff.primaryProfession.mode()[0]\n"
   ]
  },
  {
   "cell_type": "code",
   "execution_count": 14,
   "metadata": {},
   "outputs": [],
   "source": [
    "# faisons en un dataframe qu'on fusionnera avec le précédent\n",
    "SCate=pd.Series(Cate)\n",
    "SGenr=pd.Series(Genr)\n",
    "SReg=pd.Series(Reg)\n",
    "SProf=pd.Series(prProf)"
   ]
  },
  {
   "cell_type": "code",
   "execution_count": 15,
   "metadata": {},
   "outputs": [],
   "source": [
    "new_dat=pd.concat([new_dat, SCate], axis=1)\n",
    "new_dat.rename(columns={0:'SCate'}, inplace=True)"
   ]
  },
  {
   "cell_type": "code",
   "execution_count": 16,
   "metadata": {},
   "outputs": [],
   "source": [
    "new_dat=pd.concat([new_dat, SGenr], axis=1)\n",
    "new_dat.rename(columns={0:'SGenr'}, inplace=True)\n",
    "new_dat=pd.concat([new_dat, SReg], axis=1)\n",
    "new_dat.rename(columns={0:'SReg'}, inplace=True)\n",
    "new_dat=pd.concat([new_dat, SProf], axis=1)\n",
    "new_dat.rename(columns={0:'SProf'}, inplace=True)"
   ]
  },
  {
   "cell_type": "code",
   "execution_count": 17,
   "metadata": {},
   "outputs": [
    {
     "name": "stdout",
     "output_type": "stream",
     "text": [
      "<class 'pandas.core.frame.DataFrame'>\n",
      "Index: 8637 entries, nm0000092 to nm9038038\n",
      "Data columns (total 12 columns):\n",
      "ordering         8637 non-null float64\n",
      "startYear        8637 non-null float64\n",
      "birthYear        8637 non-null float64\n",
      "averageRating    8412 non-null float64\n",
      "numVotes         8412 non-null float64\n",
      "Num5Y            8637 non-null int64\n",
      "retournera       8637 non-null bool\n",
      "tconst           8637 non-null int64\n",
      "SCate            8637 non-null object\n",
      "SGenr            8637 non-null object\n",
      "SReg             8637 non-null object\n",
      "SProf            8637 non-null object\n",
      "dtypes: bool(1), float64(5), int64(2), object(4)\n",
      "memory usage: 818.2+ KB\n"
     ]
    }
   ],
   "source": [
    "new_dat.info()"
   ]
  },
  {
   "cell_type": "code",
   "execution_count": 18,
   "metadata": {},
   "outputs": [],
   "source": [
    "#Sauvegardons ces données\n",
    "new_dat.to_excel('cohorte.xlsx')"
   ]
  },
  {
   "cell_type": "code",
   "execution_count": null,
   "metadata": {},
   "outputs": [],
   "source": []
  }
 ],
 "metadata": {
  "kernelspec": {
   "display_name": "Python 3",
   "language": "python",
   "name": "python3"
  },
  "language_info": {
   "codemirror_mode": {
    "name": "ipython",
    "version": 3
   },
   "file_extension": ".py",
   "mimetype": "text/x-python",
   "name": "python",
   "nbconvert_exporter": "python",
   "pygments_lexer": "ipython3",
   "version": "3.6.4"
  }
 },
 "nbformat": 4,
 "nbformat_minor": 2
}
