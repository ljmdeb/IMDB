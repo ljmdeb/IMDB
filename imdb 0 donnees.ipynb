{
 "cells": [
  {
   "cell_type": "code",
   "execution_count": 1,
   "metadata": {},
   "outputs": [],
   "source": [
    "import numpy as np\n",
    "import pandas as pd\n",
    "import matplotlib.pyplot as plt"
   ]
  },
  {
   "cell_type": "markdown",
   "metadata": {},
   "source": [
    "## Warning : j'ai enlevé les data du répertoire !"
   ]
  },
  {
   "cell_type": "markdown",
   "metadata": {},
   "source": [
    "### First let's use the imdb name database to create dataframe (or dict) of actress and actors with their birthdate"
   ]
  },
  {
   "cell_type": "code",
   "execution_count": 2,
   "metadata": {
    "scrolled": true
   },
   "outputs": [],
   "source": [
    "d=pd.read_csv('namedata.tsv',delimiter='\\t')"
   ]
  },
  {
   "cell_type": "code",
   "execution_count": 3,
   "metadata": {},
   "outputs": [
    {
     "name": "stdout",
     "output_type": "stream",
     "text": [
      "<class 'pandas.core.frame.DataFrame'>\n",
      "RangeIndex: 9286475 entries, 0 to 9286474\n",
      "Data columns (total 6 columns):\n",
      "nconst               object\n",
      "primaryName          object\n",
      "birthYear            object\n",
      "deathYear            object\n",
      "primaryProfession    object\n",
      "knownForTitles       object\n",
      "dtypes: object(6)\n",
      "memory usage: 425.1+ MB\n"
     ]
    }
   ],
   "source": [
    "d.info()"
   ]
  },
  {
   "cell_type": "code",
   "execution_count": 4,
   "metadata": {},
   "outputs": [],
   "source": [
    "# we don't need those\n",
    "d=d.drop('deathYear',axis=1)\n",
    "d=d.drop('knownForTitles',axis=1)"
   ]
  },
  {
   "cell_type": "code",
   "execution_count": 5,
   "metadata": {},
   "outputs": [
    {
     "data": {
      "text/plain": [
       "nconst                     0\n",
       "primaryName                0\n",
       "birthYear                  0\n",
       "primaryProfession    1707429\n",
       "dtype: int64"
      ]
     },
     "execution_count": 5,
     "metadata": {},
     "output_type": "execute_result"
    }
   ],
   "source": [
    "d.isna().sum()"
   ]
  },
  {
   "cell_type": "code",
   "execution_count": 6,
   "metadata": {},
   "outputs": [],
   "source": [
    "d=d.dropna()"
   ]
  },
  {
   "cell_type": "code",
   "execution_count": 7,
   "metadata": {},
   "outputs": [],
   "source": [
    "# we plan to work on birthYear so we only keep data with a valid birthYear\n",
    "d=d[d.birthYear != '\\\\N']"
   ]
  },
  {
   "cell_type": "code",
   "execution_count": 8,
   "metadata": {},
   "outputs": [
    {
     "name": "stdout",
     "output_type": "stream",
     "text": [
      "<class 'pandas.core.frame.DataFrame'>\n",
      "Int64Index: 425496 entries, 0 to 9285770\n",
      "Data columns (total 4 columns):\n",
      "nconst               425496 non-null object\n",
      "primaryName          425496 non-null object\n",
      "birthYear            425496 non-null object\n",
      "primaryProfession    425496 non-null object\n",
      "dtypes: object(4)\n",
      "memory usage: 16.2+ MB\n"
     ]
    }
   ],
   "source": [
    "d.info()"
   ]
  },
  {
   "cell_type": "code",
   "execution_count": 9,
   "metadata": {},
   "outputs": [],
   "source": [
    "# we plan to compute the age of actress and actors. Let's convert birthYear from string to integer.\n",
    "d.birthYear = pd.to_numeric(d.birthYear).astype(np.int64)"
   ]
  },
  {
   "cell_type": "code",
   "execution_count": 10,
   "metadata": {},
   "outputs": [],
   "source": [
    "#we keep only actor and actresses\n",
    "da=d[(d['primaryProfession'].str.contains('actress')) | (d['primaryProfession'].str.contains('actor'))]"
   ]
  },
  {
   "cell_type": "code",
   "execution_count": 11,
   "metadata": {},
   "outputs": [
    {
     "name": "stdout",
     "output_type": "stream",
     "text": [
      "<class 'pandas.core.frame.DataFrame'>\n",
      "Int64Index: 293063 entries, 0 to 9285635\n",
      "Data columns (total 4 columns):\n",
      "nconst               293063 non-null object\n",
      "primaryName          293063 non-null object\n",
      "birthYear            293063 non-null int64\n",
      "primaryProfession    293063 non-null object\n",
      "dtypes: int64(1), object(3)\n",
      "memory usage: 11.2+ MB\n"
     ]
    }
   ],
   "source": [
    "da.info()"
   ]
  },
  {
   "cell_type": "code",
   "execution_count": 12,
   "metadata": {},
   "outputs": [],
   "source": [
    "df=da[da['primaryProfession'].str.contains('actress')]\n",
    "dh=da[da['primaryProfession'].str.contains('actor')]"
   ]
  },
  {
   "cell_type": "code",
   "execution_count": 13,
   "metadata": {},
   "outputs": [
    {
     "name": "stdout",
     "output_type": "stream",
     "text": [
      "la base de données contient 113982 actrices et 179081 acteurs\n",
      "cela fait 39% de femmes et 61% d'hommes ou encore 10 femmes pour 16 hommes\n"
     ]
    }
   ],
   "source": [
    "print('la base de données contient',len(df),'actrices et',len(dh),'acteurs')\n",
    "print('cela fait {:.0%} de femmes et {:.0%} d\\'hommes ou encore 10 femmes pour {:.0f} hommes'.format(len(df)/(len(df)+len(dh)),len(dh)/(len(df)+len(dh)),10*len(dh)/len(df)))"
   ]
  },
  {
   "cell_type": "code",
   "execution_count": 14,
   "metadata": {},
   "outputs": [],
   "source": [
    "del d"
   ]
  },
  {
   "cell_type": "markdown",
   "metadata": {},
   "source": [
    "### Now let's load and clean the principals and movies databases"
   ]
  },
  {
   "cell_type": "code",
   "execution_count": 15,
   "metadata": {},
   "outputs": [],
   "source": [
    "# first the principals\n",
    "d=pd.read_csv('principalsdata.tsv',delimiter='\\t')"
   ]
  },
  {
   "cell_type": "code",
   "execution_count": 16,
   "metadata": {},
   "outputs": [
    {
     "name": "stdout",
     "output_type": "stream",
     "text": [
      "<class 'pandas.core.frame.DataFrame'>\n",
      "RangeIndex: 33413821 entries, 0 to 33413820\n",
      "Data columns (total 6 columns):\n",
      "tconst        object\n",
      "ordering      int64\n",
      "nconst        object\n",
      "category      object\n",
      "job           object\n",
      "characters    object\n",
      "dtypes: int64(1), object(5)\n",
      "memory usage: 1.5+ GB\n"
     ]
    }
   ],
   "source": [
    "d.info()"
   ]
  },
  {
   "cell_type": "code",
   "execution_count": 17,
   "metadata": {},
   "outputs": [
    {
     "data": {
      "text/plain": [
       "tconst        tt0000042\n",
       "ordering              1\n",
       "nconst        nm0617588\n",
       "category       director\n",
       "job                  \\N\n",
       "characters           \\N\n",
       "Name: 100, dtype: object"
      ]
     },
     "execution_count": 17,
     "metadata": {},
     "output_type": "execute_result"
    }
   ],
   "source": [
    "# an example\n",
    "d.iloc[100]"
   ]
  },
  {
   "cell_type": "code",
   "execution_count": 18,
   "metadata": {},
   "outputs": [],
   "source": [
    "# among the principals we are only interested in actors and actresses \n",
    "db=d[(d.category=='actress') | (d.category=='actor')]\n",
    "db=db.drop('job',axis=1)"
   ]
  },
  {
   "cell_type": "code",
   "execution_count": 19,
   "metadata": {},
   "outputs": [],
   "source": [
    "del d"
   ]
  },
  {
   "cell_type": "code",
   "execution_count": 20,
   "metadata": {},
   "outputs": [
    {
     "name": "stdout",
     "output_type": "stream",
     "text": [
      "<class 'pandas.core.frame.DataFrame'>\n",
      "RangeIndex: 5820718 entries, 0 to 5820717\n",
      "Data columns (total 9 columns):\n",
      "tconst            object\n",
      "titleType         object\n",
      "primaryTitle      object\n",
      "originalTitle     object\n",
      "isAdult           int64\n",
      "startYear         object\n",
      "endYear           object\n",
      "runtimeMinutes    object\n",
      "genres            object\n",
      "dtypes: int64(1), object(8)\n",
      "memory usage: 399.7+ MB\n"
     ]
    }
   ],
   "source": [
    "# now the movies\n",
    "d=pd.read_csv('basicsdata.tsv',delimiter='\\t')\n",
    "d.info()"
   ]
  },
  {
   "cell_type": "code",
   "execution_count": 21,
   "metadata": {},
   "outputs": [
    {
     "name": "stdout",
     "output_type": "stream",
     "text": [
      "tconst              tt0010134\n",
      "titleType               movie\n",
      "primaryTitle      Fool's Gold\n",
      "originalTitle     Fool's Gold\n",
      "isAdult                     0\n",
      "startYear                1919\n",
      "endYear                    \\N\n",
      "runtimeMinutes             \\N\n",
      "genres                  Drama\n",
      "Name: 10000, dtype: object\n"
     ]
    }
   ],
   "source": [
    "print(d.iloc[10000])"
   ]
  },
  {
   "cell_type": "code",
   "execution_count": 22,
   "metadata": {},
   "outputs": [],
   "source": [
    "#we are looking for nonAdult movies\n",
    "d=d[d.isAdult==0]\n",
    "d=d[d.titleType=='movie']\n",
    "# we don't neeed those\n",
    "d=d.drop('originalTitle',axis=1)\n",
    "d=d.drop('isAdult',axis=1)\n",
    "d=d.drop('endYear',axis=1)\n",
    "d=d.drop('runtimeMinutes',axis=1)\n",
    "d=d.drop('titleType',axis=1)"
   ]
  },
  {
   "cell_type": "code",
   "execution_count": 23,
   "metadata": {},
   "outputs": [],
   "source": [
    "# we plan to work on startYear so we only keep data with a valid startYear\n",
    "d=d[d.startYear != '\\\\N']"
   ]
  },
  {
   "cell_type": "code",
   "execution_count": 24,
   "metadata": {},
   "outputs": [],
   "source": [
    "# we plan to compute the age of actress and actors at the time of filming. Let's convert startYear from string to integer.\n",
    "d.startYear = pd.to_numeric(d.startYear).astype(np.int64)"
   ]
  },
  {
   "cell_type": "code",
   "execution_count": 25,
   "metadata": {},
   "outputs": [],
   "source": [
    "#we want only fiction movies with live actors and actresses\n",
    "d=d[~(d['genres'].str.contains('Short|Talk-Show|Documentary|Animation|Reality-TV'))]"
   ]
  },
  {
   "cell_type": "code",
   "execution_count": 27,
   "metadata": {},
   "outputs": [],
   "source": [
    "d=d[d.genres != '\\\\N']"
   ]
  },
  {
   "cell_type": "code",
   "execution_count": 28,
   "metadata": {},
   "outputs": [
    {
     "name": "stdout",
     "output_type": "stream",
     "text": [
      "<class 'pandas.core.frame.DataFrame'>\n",
      "Int64Index: 284239 entries, 8 to 5820627\n",
      "Data columns (total 4 columns):\n",
      "tconst          284239 non-null object\n",
      "primaryTitle    284239 non-null object\n",
      "startYear       284239 non-null int64\n",
      "genres          284239 non-null object\n",
      "dtypes: int64(1), object(3)\n",
      "memory usage: 10.8+ MB\n"
     ]
    }
   ],
   "source": [
    "d.info()"
   ]
  },
  {
   "cell_type": "code",
   "execution_count": 42,
   "metadata": {},
   "outputs": [
    {
     "name": "stdout",
     "output_type": "stream",
     "text": [
      "<class 'pandas.core.frame.DataFrame'>\n",
      "RangeIndex: 3661438 entries, 0 to 3661437\n",
      "Data columns (total 8 columns):\n",
      "titleId            object\n",
      "ordering           int64\n",
      "title              object\n",
      "region             object\n",
      "language           object\n",
      "types              object\n",
      "attributes         object\n",
      "isOriginalTitle    object\n",
      "dtypes: int64(1), object(7)\n",
      "memory usage: 223.5+ MB\n"
     ]
    }
   ],
   "source": [
    "# we want to control for region. For this we will need to add look at the akas data\n",
    "ad=pd.read_csv('akasdata.tsv',delimiter='\\t',dtype= {'titleId': str, '‘ordering': np.int32, '‘title': str, 'region': str, 'language':str, 'types' : str, 'attributes' : str, 'isOriginalTitle' : str})\n",
    "ad.info()\n"
   ]
  },
  {
   "cell_type": "code",
   "execution_count": 43,
   "metadata": {},
   "outputs": [
    {
     "data": {
      "text/plain": [
       "0     3273424\n",
       "1      385884\n",
       "\\N       2130\n",
       "Name: isOriginalTitle, dtype: int64"
      ]
     },
     "execution_count": 43,
     "metadata": {},
     "output_type": "execute_result"
    }
   ],
   "source": [
    "ad.isOriginalTitle.value_counts()"
   ]
  },
  {
   "cell_type": "code",
   "execution_count": 47,
   "metadata": {},
   "outputs": [
    {
     "data": {
      "text/plain": [
       "\\N     385868\n",
       "US          7\n",
       "XWW         4\n",
       "GB          1\n",
       "CN          1\n",
       "BR          1\n",
       "DK          1\n",
       "HK          1\n",
       "Name: region, dtype: int64"
      ]
     },
     "execution_count": 47,
     "metadata": {},
     "output_type": "execute_result"
    }
   ],
   "source": [
    "ad1=ad[ad.isOriginalTitle == '1']\n",
    "ad1.region.value_counts()"
   ]
  },
  {
   "cell_type": "markdown",
   "metadata": {},
   "source": [
    "#alas the \"isOriginalTitle\" field is not to be trusted. "
   ]
  },
  {
   "cell_type": "code",
   "execution_count": null,
   "metadata": {},
   "outputs": [],
   "source": [
    "del ad1"
   ]
  },
  {
   "cell_type": "code",
   "execution_count": 55,
   "metadata": {},
   "outputs": [
    {
     "data": {
      "text/plain": [
       "\\N    3387578\n",
       "en     147898\n",
       "ru      22974\n",
       "fr      20881\n",
       "bg      19560\n",
       "Name: language, dtype: int64"
      ]
     },
     "execution_count": 55,
     "metadata": {},
     "output_type": "execute_result"
    }
   ],
   "source": [
    "ad.language.value_counts()[0:5]"
   ]
  },
  {
   "cell_type": "markdown",
   "metadata": {},
   "source": [
    "can't use language neither"
   ]
  },
  {
   "cell_type": "code",
   "execution_count": 57,
   "metadata": {},
   "outputs": [
    {
     "data": {
      "text/plain": [
       "US    937264\n",
       "\\N    439538\n",
       "GB    257471\n",
       "FR    146862\n",
       "JP    118750\n",
       "Name: region, dtype: int64"
      ]
     },
     "execution_count": 57,
     "metadata": {},
     "output_type": "execute_result"
    }
   ],
   "source": [
    "ad.region.value_counts()[0:5]"
   ]
  },
  {
   "cell_type": "code",
   "execution_count": 60,
   "metadata": {},
   "outputs": [
    {
     "data": {
      "text/plain": [
       "1    2074751\n",
       "2     385328\n",
       "3     345978\n",
       "4     167204\n",
       "5     111149\n",
       "Name: ordering, dtype: int64"
      ]
     },
     "execution_count": 60,
     "metadata": {},
     "output_type": "execute_result"
    }
   ],
   "source": [
    "ad.ordering.value_counts()[0:5]"
   ]
  },
  {
   "cell_type": "markdown",
   "metadata": {},
   "source": [
    "We will use region instead, and ordering to avoid duplicates, hoping ordering =1 means original title"
   ]
  },
  {
   "cell_type": "code",
   "execution_count": 63,
   "metadata": {},
   "outputs": [],
   "source": [
    "ad1=ad[ad.ordering==1]"
   ]
  },
  {
   "cell_type": "code",
   "execution_count": 65,
   "metadata": {},
   "outputs": [],
   "source": [
    "ad1=ad1[ad1.region != '\\\\N']"
   ]
  },
  {
   "cell_type": "code",
   "execution_count": 66,
   "metadata": {},
   "outputs": [
    {
     "name": "stdout",
     "output_type": "stream",
     "text": [
      " Films français  : 75463 \n",
      " Films américains: 771100\n"
     ]
    }
   ],
   "source": [
    "print(' Films français  :',len(ad1[ad1.region=='FR']),'\\n','Films américains:',len(ad1[ad1.region=='US']))"
   ]
  },
  {
   "cell_type": "code",
   "execution_count": 69,
   "metadata": {},
   "outputs": [],
   "source": [
    "ad1=ad1[['titleId','region']]\n",
    "ad1.rename(columns={'titleId':'tconst'}, inplace=True)"
   ]
  },
  {
   "cell_type": "code",
   "execution_count": 70,
   "metadata": {},
   "outputs": [
    {
     "name": "stdout",
     "output_type": "stream",
     "text": [
      "<class 'pandas.core.frame.DataFrame'>\n",
      "Int64Index: 1943827 entries, 0 to 3661435\n",
      "Data columns (total 2 columns):\n",
      "tconst    object\n",
      "region    object\n",
      "dtypes: object(2)\n",
      "memory usage: 44.5+ MB\n"
     ]
    }
   ],
   "source": [
    "ad1.info()"
   ]
  },
  {
   "cell_type": "code",
   "execution_count": 74,
   "metadata": {},
   "outputs": [
    {
     "name": "stdout",
     "output_type": "stream",
     "text": [
      "<class 'pandas.core.frame.DataFrame'>\n",
      "Int64Index: 218952 entries, 0 to 218951\n",
      "Data columns (total 5 columns):\n",
      "tconst          218952 non-null object\n",
      "primaryTitle    218952 non-null object\n",
      "startYear       218952 non-null int64\n",
      "genres          218952 non-null object\n",
      "region          218949 non-null object\n",
      "dtypes: int64(1), object(4)\n",
      "memory usage: 10.0+ MB\n"
     ]
    }
   ],
   "source": [
    "d=pd.merge(d,ad1,on='tconst')\n",
    "d=d.drop_duplicates()\n",
    "d.info()"
   ]
  },
  {
   "cell_type": "markdown",
   "metadata": {},
   "source": [
    "218k films have region among the 284k we initialy got. That's fairly acceptable"
   ]
  },
  {
   "cell_type": "code",
   "execution_count": 78,
   "metadata": {},
   "outputs": [
    {
     "data": {
      "text/plain": [
       "US     46302\n",
       "IN     19855\n",
       "XWW    10740\n",
       "GB      8286\n",
       "BR      7353\n",
       "FR      7248\n",
       "PH      7066\n",
       "JP      6814\n",
       "MX      6282\n",
       "IT      6196\n",
       "Name: region, dtype: int64"
      ]
     },
     "execution_count": 78,
     "metadata": {},
     "output_type": "execute_result"
    }
   ],
   "source": [
    "d.region.value_counts()[0:10]"
   ]
  },
  {
   "cell_type": "code",
   "execution_count": null,
   "metadata": {},
   "outputs": [],
   "source": [
    "e=d[d.startYear>1989]\n",
    "e.region.value_counts()[0:10]"
   ]
  },
  {
   "cell_type": "markdown",
   "metadata": {},
   "source": [
    "According to web comments, XWW means \"worldwide\" "
   ]
  },
  {
   "cell_type": "markdown",
   "metadata": {},
   "source": [
    "let's summarize : \n",
    "d is a dataframe of 218k nonadult fiction movies with id (tconst) ans startYear (integer)\n",
    "db is a dataframe of millions of \"principals\" (i.e. roles) with id (tconst) of the movie, id (nconst) of the actress/actor\n",
    "df and dh are dataframe of 119k actresses/173kactors with id (nconst) and birthYear (integer)"
   ]
  },
  {
   "cell_type": "markdown",
   "metadata": {},
   "source": [
    "##### Let's merge d and db so as to integrate the startYear of the movie in the dataframe and drop principals with no startYear"
   ]
  },
  {
   "cell_type": "code",
   "execution_count": 88,
   "metadata": {},
   "outputs": [
    {
     "name": "stdout",
     "output_type": "stream",
     "text": [
      "<class 'pandas.core.frame.DataFrame'>\n",
      "Int64Index: 960442 entries, 0 to 960441\n",
      "Data columns (total 9 columns):\n",
      "tconst          960442 non-null object\n",
      "ordering        960442 non-null int64\n",
      "nconst          960442 non-null object\n",
      "category        960442 non-null object\n",
      "characters      960442 non-null object\n",
      "primaryTitle    960442 non-null object\n",
      "startYear       960442 non-null int64\n",
      "genres          960442 non-null object\n",
      "region          960434 non-null object\n",
      "dtypes: int64(2), object(7)\n",
      "memory usage: 73.3+ MB\n"
     ]
    }
   ],
   "source": [
    "#d=d.drop('primaryTitle', axis=1)\n",
    "db=pd.merge(db,d,on='tconst')"
   ]
  },
  {
   "cell_type": "code",
   "execution_count": 89,
   "metadata": {},
   "outputs": [
    {
     "name": "stdout",
     "output_type": "stream",
     "text": [
      "362888\n"
     ]
    }
   ],
   "source": [
    "print(len(db.nconst.unique()))"
   ]
  },
  {
   "cell_type": "code",
   "execution_count": 90,
   "metadata": {},
   "outputs": [
    {
     "name": "stdout",
     "output_type": "stream",
     "text": [
      "212341\n"
     ]
    }
   ],
   "source": [
    "print(len(db.tconst.unique()))"
   ]
  },
  {
   "cell_type": "code",
   "execution_count": 91,
   "metadata": {},
   "outputs": [
    {
     "name": "stdout",
     "output_type": "stream",
     "text": [
      "960442\n"
     ]
    }
   ],
   "source": [
    "print(len(db))"
   ]
  },
  {
   "cell_type": "code",
   "execution_count": 92,
   "metadata": {},
   "outputs": [
    {
     "name": "stdout",
     "output_type": "stream",
     "text": [
      "<class 'pandas.core.frame.DataFrame'>\n",
      "Int64Index: 547223 entries, 0 to 547222\n",
      "Data columns (total 12 columns):\n",
      "tconst               547223 non-null object\n",
      "ordering             547223 non-null int64\n",
      "nconst               547223 non-null object\n",
      "category             547223 non-null object\n",
      "characters           547223 non-null object\n",
      "primaryTitle         547223 non-null object\n",
      "startYear            547223 non-null int64\n",
      "genres               547223 non-null object\n",
      "region               547221 non-null object\n",
      "primaryName          547223 non-null object\n",
      "birthYear            547223 non-null int64\n",
      "primaryProfession    547223 non-null object\n",
      "dtypes: int64(3), object(9)\n",
      "memory usage: 54.3+ MB\n"
     ]
    }
   ],
   "source": [
    "# we merge with the actor/actress bases to get acting people birthYear\n",
    "db=pd.merge(db,da,on='nconst',validate=\"m:1\")\n",
    "db.info()"
   ]
  },
  {
   "cell_type": "code",
   "execution_count": 93,
   "metadata": {},
   "outputs": [],
   "source": [
    "# calculons l'age au moment du role\n",
    "db['age']=db['startYear']-db['birthYear']"
   ]
  },
  {
   "cell_type": "code",
   "execution_count": 94,
   "metadata": {},
   "outputs": [
    {
     "name": "stdout",
     "output_type": "stream",
     "text": [
      "tconst               36\n",
      "ordering             36\n",
      "nconst               36\n",
      "category             36\n",
      "characters           36\n",
      "primaryTitle         36\n",
      "startYear            36\n",
      "genres               36\n",
      "region               36\n",
      "primaryName          36\n",
      "birthYear            36\n",
      "primaryProfession    36\n",
      "age                  36\n",
      "dtype: int64\n"
     ]
    }
   ],
   "source": [
    "print(db[db.age <= 0].count())"
   ]
  },
  {
   "cell_type": "code",
   "execution_count": 95,
   "metadata": {},
   "outputs": [
    {
     "name": "stdout",
     "output_type": "stream",
     "text": [
      "tconst               20\n",
      "ordering             20\n",
      "nconst               20\n",
      "category             20\n",
      "characters           20\n",
      "primaryTitle         20\n",
      "startYear            20\n",
      "genres               20\n",
      "region               20\n",
      "primaryName          20\n",
      "birthYear            20\n",
      "primaryProfession    20\n",
      "age                  20\n",
      "dtype: int64\n"
     ]
    }
   ],
   "source": [
    "print(db[db.age > 100].count())"
   ]
  },
  {
   "cell_type": "code",
   "execution_count": 96,
   "metadata": {},
   "outputs": [],
   "source": [
    "# les erreurs ne sont pas nombreuses on peut les supprimer sans autre forme de procès\n",
    "db=db[db.age >0]\n",
    "db=db[db.age<101]"
   ]
  },
  {
   "cell_type": "code",
   "execution_count": 97,
   "metadata": {},
   "outputs": [],
   "source": [
    "#ne gardons que les films déjà tournés\n",
    "db=db[db.startYear<2020]"
   ]
  },
  {
   "cell_type": "code",
   "execution_count": 98,
   "metadata": {},
   "outputs": [
    {
     "name": "stdout",
     "output_type": "stream",
     "text": [
      "<class 'pandas.core.frame.DataFrame'>\n",
      "Int64Index: 546931 entries, 0 to 547222\n",
      "Data columns (total 13 columns):\n",
      "tconst               546931 non-null object\n",
      "ordering             546931 non-null int64\n",
      "nconst               546931 non-null object\n",
      "category             546931 non-null object\n",
      "characters           546931 non-null object\n",
      "primaryTitle         546931 non-null object\n",
      "startYear            546931 non-null int64\n",
      "genres               546931 non-null object\n",
      "region               546929 non-null object\n",
      "primaryName          546931 non-null object\n",
      "birthYear            546931 non-null int64\n",
      "primaryProfession    546931 non-null object\n",
      "age                  546931 non-null int64\n",
      "dtypes: int64(4), object(9)\n",
      "memory usage: 58.4+ MB\n"
     ]
    }
   ],
   "source": [
    "db.info()"
   ]
  },
  {
   "cell_type": "markdown",
   "metadata": {},
   "source": [
    "### ajoutons les informations de rating sur les films"
   ]
  },
  {
   "cell_type": "code",
   "execution_count": 99,
   "metadata": {},
   "outputs": [],
   "source": [
    "d=pd.read_csv('ratingsdata.tsv',delimiter='\\t')"
   ]
  },
  {
   "cell_type": "code",
   "execution_count": 101,
   "metadata": {},
   "outputs": [
    {
     "name": "stdout",
     "output_type": "stream",
     "text": [
      "<class 'pandas.core.frame.DataFrame'>\n",
      "Int64Index: 929784 entries, 0 to 1487005\n",
      "Data columns (total 3 columns):\n",
      "tconst           929784 non-null object\n",
      "averageRating    929784 non-null float64\n",
      "numVotes         929784 non-null int64\n",
      "dtypes: float64(1), int64(1), object(1)\n",
      "memory usage: 28.4+ MB\n"
     ]
    }
   ],
   "source": [
    "d=d.drop_duplicates()\n",
    "d.info()"
   ]
  },
  {
   "cell_type": "code",
   "execution_count": 102,
   "metadata": {},
   "outputs": [],
   "source": [
    "# let's add the rating\n",
    "dbr=pd.merge(db,d,on='tconst',how='left')"
   ]
  },
  {
   "cell_type": "code",
   "execution_count": 106,
   "metadata": {},
   "outputs": [
    {
     "data": {
      "text/html": [
       "<div>\n",
       "<style scoped>\n",
       "    .dataframe tbody tr th:only-of-type {\n",
       "        vertical-align: middle;\n",
       "    }\n",
       "\n",
       "    .dataframe tbody tr th {\n",
       "        vertical-align: top;\n",
       "    }\n",
       "\n",
       "    .dataframe thead th {\n",
       "        text-align: right;\n",
       "    }\n",
       "</style>\n",
       "<table border=\"1\" class=\"dataframe\">\n",
       "  <thead>\n",
       "    <tr style=\"text-align: right;\">\n",
       "      <th></th>\n",
       "      <th>ordering</th>\n",
       "      <th>startYear</th>\n",
       "      <th>birthYear</th>\n",
       "      <th>age</th>\n",
       "      <th>averageRating</th>\n",
       "      <th>numVotes</th>\n",
       "    </tr>\n",
       "  </thead>\n",
       "  <tbody>\n",
       "    <tr>\n",
       "      <th>count</th>\n",
       "      <td>546931.000000</td>\n",
       "      <td>546931.000000</td>\n",
       "      <td>546931.000000</td>\n",
       "      <td>546931.000000</td>\n",
       "      <td>391003.000000</td>\n",
       "      <td>3.910030e+05</td>\n",
       "    </tr>\n",
       "    <tr>\n",
       "      <th>mean</th>\n",
       "      <td>3.093419</td>\n",
       "      <td>1973.705502</td>\n",
       "      <td>1935.322255</td>\n",
       "      <td>38.383248</td>\n",
       "      <td>6.058252</td>\n",
       "      <td>5.888499e+03</td>\n",
       "    </tr>\n",
       "    <tr>\n",
       "      <th>std</th>\n",
       "      <td>2.255731</td>\n",
       "      <td>30.813972</td>\n",
       "      <td>32.003457</td>\n",
       "      <td>13.447615</td>\n",
       "      <td>1.177250</td>\n",
       "      <td>4.238728e+04</td>\n",
       "    </tr>\n",
       "    <tr>\n",
       "      <th>min</th>\n",
       "      <td>1.000000</td>\n",
       "      <td>1900.000000</td>\n",
       "      <td>1830.000000</td>\n",
       "      <td>1.000000</td>\n",
       "      <td>1.000000</td>\n",
       "      <td>5.000000e+00</td>\n",
       "    </tr>\n",
       "    <tr>\n",
       "      <th>25%</th>\n",
       "      <td>2.000000</td>\n",
       "      <td>1951.000000</td>\n",
       "      <td>1912.000000</td>\n",
       "      <td>28.000000</td>\n",
       "      <td>5.400000</td>\n",
       "      <td>2.100000e+01</td>\n",
       "    </tr>\n",
       "    <tr>\n",
       "      <th>50%</th>\n",
       "      <td>3.000000</td>\n",
       "      <td>1975.000000</td>\n",
       "      <td>1937.000000</td>\n",
       "      <td>36.000000</td>\n",
       "      <td>6.200000</td>\n",
       "      <td>8.700000e+01</td>\n",
       "    </tr>\n",
       "    <tr>\n",
       "      <th>75%</th>\n",
       "      <td>4.000000</td>\n",
       "      <td>2003.000000</td>\n",
       "      <td>1961.000000</td>\n",
       "      <td>47.000000</td>\n",
       "      <td>6.900000</td>\n",
       "      <td>5.330000e+02</td>\n",
       "    </tr>\n",
       "    <tr>\n",
       "      <th>max</th>\n",
       "      <td>10.000000</td>\n",
       "      <td>2019.000000</td>\n",
       "      <td>2013.000000</td>\n",
       "      <td>100.000000</td>\n",
       "      <td>10.000000</td>\n",
       "      <td>2.082493e+06</td>\n",
       "    </tr>\n",
       "  </tbody>\n",
       "</table>\n",
       "</div>"
      ],
      "text/plain": [
       "            ordering      startYear      birthYear            age  \\\n",
       "count  546931.000000  546931.000000  546931.000000  546931.000000   \n",
       "mean        3.093419    1973.705502    1935.322255      38.383248   \n",
       "std         2.255731      30.813972      32.003457      13.447615   \n",
       "min         1.000000    1900.000000    1830.000000       1.000000   \n",
       "25%         2.000000    1951.000000    1912.000000      28.000000   \n",
       "50%         3.000000    1975.000000    1937.000000      36.000000   \n",
       "75%         4.000000    2003.000000    1961.000000      47.000000   \n",
       "max        10.000000    2019.000000    2013.000000     100.000000   \n",
       "\n",
       "       averageRating      numVotes  \n",
       "count  391003.000000  3.910030e+05  \n",
       "mean        6.058252  5.888499e+03  \n",
       "std         1.177250  4.238728e+04  \n",
       "min         1.000000  5.000000e+00  \n",
       "25%         5.400000  2.100000e+01  \n",
       "50%         6.200000  8.700000e+01  \n",
       "75%         6.900000  5.330000e+02  \n",
       "max        10.000000  2.082493e+06  "
      ]
     },
     "execution_count": 106,
     "metadata": {},
     "output_type": "execute_result"
    }
   ],
   "source": [
    "dbr.describe()"
   ]
  },
  {
   "cell_type": "code",
   "execution_count": 120,
   "metadata": {},
   "outputs": [
    {
     "name": "stdout",
     "output_type": "stream",
     "text": [
      "4445\n"
     ]
    },
    {
     "data": {
      "text/plain": [
       "tconst                 0\n",
       "ordering               0\n",
       "nconst                 0\n",
       "category               0\n",
       "characters             0\n",
       "primaryTitle           0\n",
       "startYear              0\n",
       "genres                 0\n",
       "region                 0\n",
       "primaryName            0\n",
       "birthYear              0\n",
       "primaryProfession      0\n",
       "age                    0\n",
       "averageRating        695\n",
       "numVotes             695\n",
       "dtype: int64"
      ]
     },
     "execution_count": 120,
     "metadata": {},
     "output_type": "execute_result"
    }
   ],
   "source": [
    "reg='GB'\n",
    "dbr2=dbr[dbr.startYear>1999]\n",
    "print(len(dbr2[dbr2.region==reg]))\n",
    "dbr2[dbr2.region==reg].isna().sum()"
   ]
  },
  {
   "cell_type": "code",
   "execution_count": 123,
   "metadata": {},
   "outputs": [
    {
     "name": "stdout",
     "output_type": "stream",
     "text": [
      "tconst                            tt0048745\n",
      "ordering                                  4\n",
      "nconst                            nm0285264\n",
      "category                              actor\n",
      "characters                   [\"Alan Doran\"]\n",
      "primaryTitle         Treasure of Ruby Hills\n",
      "startYear                              1955\n",
      "genres                              Western\n",
      "region                                   GR\n",
      "primaryName                      Dick Foran\n",
      "birthYear                              1910\n",
      "primaryProfession          actor,soundtrack\n",
      "age                                      45\n",
      "averageRating                           5.8\n",
      "numVotes                                 85\n",
      "Name: 100000, dtype: object\n"
     ]
    }
   ],
   "source": [
    "print(dbr.iloc[100000])"
   ]
  },
  {
   "cell_type": "code",
   "execution_count": 124,
   "metadata": {},
   "outputs": [
    {
     "data": {
      "text/plain": [
       "<matplotlib.axes._subplots.AxesSubplot at 0x204e0077da0>"
      ]
     },
     "execution_count": 124,
     "metadata": {},
     "output_type": "execute_result"
    },
    {
     "data": {
      "image/png": "[encoded data removed]",
      "text/plain": [
       "<matplotlib.figure.Figure at 0x204defbb0b8>"
      ]
     },
     "metadata": {},
     "output_type": "display_data"
    }
   ],
   "source": [
    "plt.figure(figsize=(15,7))\n",
    "dbr['startYear'].value_counts(ascending=True).plot(kind='bar',color='brown')"
   ]
  },
  {
   "cell_type": "markdown",
   "metadata": {},
   "source": [
    "#### note that in this dataframe lines are roles (filmxactor/actress), not films"
   ]
  },
  {
   "cell_type": "code",
   "execution_count": 125,
   "metadata": {},
   "outputs": [],
   "source": [
    "dbr.to_csv(\"imdb_dbr.csv\")"
   ]
  },
  {
   "cell_type": "markdown",
   "metadata": {},
   "source": [
    "A FAIRE :\n",
    "parmi les rôles combien sont pour des nouveaux venus\n",
    "longueur moyenne de la \"carrière\" par sexe, distribution des longueurs de carrière\n",
    "distribution du nombre de grands roles, par sexe\n",
    "distribution des ages de premier role, par sexe\n",
    "distribution des ages de dernier role, par sexe\n",
    "proba de retrouver un role dans les n prochaines années, par sexe\n",
    "proba de retrouver un role dans les 5 prochaines années en fonction de l'age, par sexe  \n",
    "subtitles for hearing impaired : diff de thématiques / phrases représentatives hommes/femmes\n",
    "\n",
    "#vu après : https://minimaxir.com/2018/07/imdb-data-analysis/"
   ]
  },
  {
   "cell_type": "code",
   "execution_count": 126,
   "metadata": {},
   "outputs": [],
   "source": [
    "del dbr2\n",
    "del dbr\n",
    "del d"
   ]
  },
  {
   "cell_type": "code",
   "execution_count": null,
   "metadata": {},
   "outputs": [],
   "source": []
  }
 ],
 "metadata": {
  "kernelspec": {
   "display_name": "Python 3",
   "language": "python",
   "name": "python3"
  },
  "language_info": {
   "codemirror_mode": {
    "name": "ipython",
    "version": 3
   },
   "file_extension": ".py",
   "mimetype": "text/x-python",
   "name": "python",
   "nbconvert_exporter": "python",
   "pygments_lexer": "ipython3",
   "version": "3.6.4"
  }
 },
 "nbformat": 4,
 "nbformat_minor": 2
}
